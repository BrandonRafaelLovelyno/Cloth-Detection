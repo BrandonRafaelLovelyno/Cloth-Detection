{
 "cells": [
  {
   "cell_type": "code",
   "execution_count": 33,
   "metadata": {},
   "outputs": [],
   "source": [
    "from PIL import ImageDraw\n",
    "import json"
   ]
  },
  {
   "cell_type": "code",
   "execution_count": null,
   "metadata": {},
   "outputs": [],
   "source": [
    "def draw_all_item_boxes(image, dir):\n",
    "    with open(dir) as f:\n",
    "        anno = json.load(f)\n",
    "\n",
    "    draw = ImageDraw.Draw(image)\n",
    "\n",
    "    for i,item_key in enumerate(anno.keys()):\n",
    "        item_value = anno[item_key]\n",
    "        \n",
    "        if isinstance(item_value, dict) and 'bounding_box' in item_value:\n",
    "            bbox = item_value['bounding_box']\n",
    "        \n",
    "            if isinstance(bbox, list) and len(bbox) == 4:\n",
    "                x1, y1, x2, y2 = map(int, bbox) \n",
    "                draw.rectangle([x1, y1, x2, y2], outline=\"white\" if i%2==0 else 'red', width=2)  \n",
    "                \n",
    "                \n",
    "    return image"
   ]
  }
 ],
 "metadata": {
  "kernelspec": {
   "display_name": "Python 3",
   "language": "python",
   "name": "python3"
  },
  "language_info": {
   "codemirror_mode": {
    "name": "ipython",
    "version": 3
   },
   "file_extension": ".py",
   "mimetype": "text/x-python",
   "name": "python",
   "nbconvert_exporter": "python",
   "pygments_lexer": "ipython3",
   "version": "3.12.6"
  }
 },
 "nbformat": 4,
 "nbformat_minor": 2
}
