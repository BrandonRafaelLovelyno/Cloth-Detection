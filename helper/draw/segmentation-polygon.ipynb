{
 "cells": [
  {
   "cell_type": "code",
   "execution_count": 1,
   "metadata": {},
   "outputs": [],
   "source": [
    "import torch\n",
    "from PIL import Image, ImageDraw\n",
    "\n",
    "import matplotlib.pyplot as plt\n",
    "\n",
    "import random\n",
    "import json"
   ]
  },
  {
   "cell_type": "code",
   "execution_count": 119,
   "metadata": {},
   "outputs": [],
   "source": [
    "def make_polygon_tuples(polygon_tensor):\n",
    "    polygon_tuples = [(polygon_tensor[i], polygon_tensor[i + 1]) for i in range(0, len(polygon_tensor), 2)]\n",
    "    return polygon_tuples\n",
    "\n",
    "def draw_single_polygon(image, polygon_tensor, color='white'):\n",
    "    polygon_tuples = make_polygon_tuples(polygon_tensor)\n",
    "    draw = ImageDraw.Draw(image)\n",
    "    draw.polygon(polygon_tuples, outline=color)\n",
    "\n",
    "    return image\n",
    "\n",
    "def draw_item_polygons(image, polygons,color='white'):\n",
    "    for i,polygon in enumerate(polygons):\n",
    "        polygon_tensor = torch.tensor(polygon)\n",
    "        image = draw_single_polygon(image, polygon_tensor, color=color)\n",
    "\n",
    "    return image\n",
    "\n",
    "def draw_all_item_polygons(image, dir):\n",
    "    with open(dir) as f:\n",
    "        anno = json.load(f)\n",
    "    \n",
    "    for i,item_key in enumerate(anno.keys()):\n",
    "        item_value = anno[item_key]\n",
    "        if isinstance(item_value, dict) and 'segmentation' in item_value:\n",
    "            segmentation = item_value['segmentation']\n",
    "            \n",
    "            if isinstance(segmentation, list):\n",
    "                image = draw_item_polygons(image, segmentation,color='white' if i%2==0 else 'red')\n",
    "                \n",
    "    return image"
   ]
  }
 ],
 "metadata": {
  "kernelspec": {
   "display_name": "Python 3",
   "language": "python",
   "name": "python3"
  },
  "language_info": {
   "codemirror_mode": {
    "name": "ipython",
    "version": 3
   },
   "file_extension": ".py",
   "mimetype": "text/x-python",
   "name": "python",
   "nbconvert_exporter": "python",
   "pygments_lexer": "ipython3",
   "version": "3.12.6"
  }
 },
 "nbformat": 4,
 "nbformat_minor": 2
}
