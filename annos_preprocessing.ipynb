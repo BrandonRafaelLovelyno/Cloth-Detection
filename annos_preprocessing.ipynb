{
 "cells": [
  {
   "cell_type": "code",
   "execution_count": 1,
   "metadata": {},
   "outputs": [],
   "source": [
    "import os\n",
    "import h5py\n",
    "import json\n",
    "import sys"
   ]
  },
  {
   "cell_type": "markdown",
   "metadata": {},
   "source": [
    "### Creating single hdf5 of all json annotations"
   ]
  },
  {
   "cell_type": "code",
   "execution_count": 2,
   "metadata": {},
   "outputs": [],
   "source": [
    "sys.path.append(\"./helper\")\n",
    "import hdf5"
   ]
  },
  {
   "cell_type": "code",
   "execution_count": 3,
   "metadata": {},
   "outputs": [],
   "source": [
    "anno_path = '../data/train/annos/'\n",
    "hdf5_path = '../data/train/hdf5/'"
   ]
  },
  {
   "cell_type": "code",
   "execution_count": null,
   "metadata": {},
   "outputs": [],
   "source": [
    "with h5py.File(os.path.join(hdf5_path, 'annos.h5'), 'w') as h5f:\n",
    "    \n",
    "    for filename in os.listdir(anno_path):\n",
    "        if filename.endswith('.json'):\n",
    "            file_path = os.path.join(anno_path, filename)\n",
    "            data_id = os.path.splitext(filename)[0] \n",
    "                        \n",
    "            with open(file_path, 'r') as json_file:\n",
    "                loaded_json = json.load(json_file)\n",
    "            \n",
    "            root_group = h5f.create_group(data_id)\n",
    "\n",
    "            for item_number, item_attr in loaded_json.items():                                \n",
    "                if not isinstance(item_attr, dict):\n",
    "                    root_group.create_dataset(item_number, data=item_attr)\n",
    "                    continue\n",
    "                                \n",
    "                item_group = root_group.create_group(item_number)  \n",
    "                for attr_name, attr_value in item_attr.items():\n",
    "                    if isinstance(attr_value,list):\n",
    "                        hdf5.append_list_item(item_group, attr_name, attr_value)\n",
    "                    else :\n",
    "                        item_group.create_dataset(attr_name, data=attr_value)\n",
    "                    \n",
    "\n",
    "print(f\"HDF5 file '{os.path.join(hdf5_path, 'annos.h5')}' has been created with all JSON data.\")"
   ]
  }
 ],
 "metadata": {
  "kernelspec": {
   "display_name": "Python 3",
   "language": "python",
   "name": "python3"
  },
  "language_info": {
   "codemirror_mode": {
    "name": "ipython",
    "version": 3
   },
   "file_extension": ".py",
   "mimetype": "text/x-python",
   "name": "python",
   "nbconvert_exporter": "python",
   "pygments_lexer": "ipython3",
   "version": "3.12.6"
  }
 },
 "nbformat": 4,
 "nbformat_minor": 2
}
